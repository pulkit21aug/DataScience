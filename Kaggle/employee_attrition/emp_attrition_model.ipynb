{
 "cells": [
  {
   "cell_type": "markdown",
   "metadata": {},
   "source": [
    "Dataset analysis employee attrition\n",
    "Link - https://www.kaggle.com/datasets/pavansubhasht/ibm-hr-analytics-attrition-dataset\n",
    "\n",
    "# Management decision problem\n",
    "- Take corrective action in  order to reduce the employee attrition.\n",
    "\n",
    "# Analytics Research Problem\n",
    "- Identify the factors affecting employee attrition and convey  to management so that they\n",
    "can narrow down the scope .\n",
    "\n",
    "# Research Objective\n",
    "  1. Pre-process data. \n",
    "  2. Identify Factors and run ML algorithms to predict which employee will leave the company.\n",
    "  3. Visualise\n",
    "  \n",
    "  ## Notebook - create predictive model"
   ]
  },
  {
   "cell_type": "code",
   "execution_count": 2,
   "metadata": {},
   "outputs": [],
   "source": [
    "import pandas  as pd\n",
    "import numpy   as np\n",
    "import matplotlib.pyplot as plt\n",
    "from sklearn.preprocessing import LabelEncoder\n",
    "from xgboost import XGBClassifier\n",
    "from sklearn.metrics import confusion_matrix\n",
    "from sklearn import metrics\n",
    "from sklearn.linear_model import LogisticRegression\n",
    "from sklearn.ensemble import GradientBoostingClassifier\n",
    "from sklearn.ensemble import  RandomForestClassifier\n",
    "\n",
    "##read the dataset\n",
    "df_eda_transform  = pd.read_csv(r\"D:\\github\\DataScience\\Kaggle\\employee_attrition\\emp_eda_transform.csv\")"
   ]
  },
  {
   "cell_type": "code",
   "execution_count": null,
   "metadata": {},
   "outputs": [],
   "source": [
    "# drop columns  which are not fed in model\n",
    "df_eda_transform.drop(['EducationField'], axis=1, inplace=True)\n",
    "df_eda_transform.drop(['Department'], axis=1, inplace=True)\n",
    "df_eda_transform.drop(['EmployeeCount'], axis=1, inplace=True)\n",
    "df_eda_transform.drop(['EmployeeNumber'], axis=1, inplace=True)"
   ]
  }
 ],
 "metadata": {
  "kernelspec": {
   "display_name": "Python 3",
   "language": "python",
   "name": "python3"
  },
  "language_info": {
   "codemirror_mode": {
    "name": "ipython",
    "version": 3
   },
   "file_extension": ".py",
   "mimetype": "text/x-python",
   "name": "python",
   "nbconvert_exporter": "python",
   "pygments_lexer": "ipython3",
   "version": "3.9.0"
  },
  "orig_nbformat": 4
 },
 "nbformat": 4,
 "nbformat_minor": 2
}
