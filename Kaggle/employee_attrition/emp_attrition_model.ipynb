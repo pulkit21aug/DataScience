{
 "cells": [
  {
   "cell_type": "markdown",
   "metadata": {},
   "source": [
    "Dataset analysis employee attrition\n",
    "Link - https://www.kaggle.com/datasets/pavansubhasht/ibm-hr-analytics-attrition-dataset\n",
    "\n",
    "# Management decision problem\n",
    "- Take corrective action in  order to reduce the employee attrition.\n",
    "\n",
    "# Analytics Research Problem\n",
    "- Identify the factors affecting employee attrition and convey  to management so that they\n",
    "can narrow down the scope .\n",
    "\n",
    "# Research Objective\n",
    "  1. Pre-process data. \n",
    "  2. Identify Factors and run ML algorithms to predict which employee will leave the company.\n",
    "  3. Visualise\n",
    "  \n",
    "  ## Notebook - create predictive model"
   ]
  },
  {
   "cell_type": "code",
   "execution_count": 1,
   "metadata": {},
   "outputs": [],
   "source": [
    "import pandas  as pd\n",
    "import numpy   as np\n",
    "import matplotlib.pyplot as plt\n",
    "from sklearn.preprocessing import LabelEncoder\n",
    "from xgboost import XGBClassifier\n",
    "from sklearn.metrics import confusion_matrix\n",
    "from sklearn import metrics\n",
    "from sklearn.linear_model import LogisticRegression\n",
    "from sklearn.ensemble import GradientBoostingClassifier\n",
    "from sklearn.ensemble import  RandomForestClassifier\n",
    "from sklearn.model_selection import train_test_split\n",
    "import pickle\n",
    "\n",
    "##read the dataset\n",
    "df_eda_transform  = pd.read_csv(r\"D:\\github\\DataScience\\Kaggle\\employee_attrition\\emp_eda_transform.csv\")"
   ]
  },
  {
   "cell_type": "code",
   "execution_count": 2,
   "metadata": {},
   "outputs": [],
   "source": [
    "# drop columns  which are not fed in model\n",
    "df_eda_transform.drop(['EducationField'], axis=1, inplace=True)\n",
    "df_eda_transform.drop(['Department'], axis=1, inplace=True)\n",
    "df_eda_transform.drop(['EmployeeCount'], axis=1, inplace=True)\n",
    "df_eda_transform.drop(['EmployeeNumber'], axis=1, inplace=True)\n",
    "df_eda_transform.drop(['DailyRate'], axis=1, inplace=True)\n",
    "df_eda_transform.drop(['JobRole'], axis=1, inplace=True)\n",
    "\n",
    "df_eda_transform.drop(['MonthlyIncome'], axis=1, inplace=True)\n",
    "df_eda_transform.drop(['MonthlyRate'], axis=1, inplace=True)\n",
    "df_eda_transform.drop(['Over18'], axis=1, inplace=True)\n",
    "df_eda_transform.drop(['StandardHours'], axis=1, inplace=True)"
   ]
  },
  {
   "cell_type": "code",
   "execution_count": 3,
   "metadata": {},
   "outputs": [],
   "source": [
    "#convert age_groups to dummies\n",
    "df_eda_transform = pd.get_dummies(data=df_eda_transform, columns=['age_group'])"
   ]
  },
  {
   "cell_type": "code",
   "execution_count": 4,
   "metadata": {},
   "outputs": [
    {
     "data": {
      "text/plain": [
       "(1029, 28)"
      ]
     },
     "execution_count": 4,
     "metadata": {},
     "output_type": "execute_result"
    }
   ],
   "source": [
    "#split dataset in train and test\n",
    "x = df_eda_transform.loc[:, df_eda_transform.columns != 'Attrition']\n",
    "y = df_eda_transform['Attrition']\n",
    "x_train, x_test, y_train, y_test = train_test_split(x,y,test_size=.3,random_state=42)\n",
    "x_train.shape"
   ]
  },
  {
   "cell_type": "markdown",
   "metadata": {},
   "source": [
    "## Model selection build model and predict\n"
   ]
  },
  {
   "cell_type": "code",
   "execution_count": 5,
   "metadata": {},
   "outputs": [],
   "source": [
    "model = LogisticRegression(solver='lbfgs',max_iter=1000)\n",
    "model.fit(x_train,y_train)\n",
    "\n",
    "predictions = model.predict(x_test)"
   ]
  },
  {
   "cell_type": "markdown",
   "metadata": {},
   "source": [
    "#test accuracy of the model"
   ]
  },
  {
   "cell_type": "code",
   "execution_count": 6,
   "metadata": {},
   "outputs": [
    {
     "name": "stdout",
     "output_type": "stream",
     "text": [
      "[[369  11]\n",
      " [ 44  17]]\n"
     ]
    }
   ],
   "source": [
    "from sklearn import  metrics\n",
    "print(metrics.confusion_matrix(y_test,predictions))"
   ]
  },
  {
   "cell_type": "markdown",
   "metadata": {},
   "source": [
    "#beautify confusion matrix"
   ]
  },
  {
   "cell_type": "code",
   "execution_count": 7,
   "metadata": {},
   "outputs": [
    {
     "name": "stdout",
     "output_type": "stream",
     "text": [
      "              precision    recall  f1-score   support\n",
      "\n",
      "           0       0.89      0.97      0.93       380\n",
      "           1       0.61      0.28      0.38        61\n",
      "\n",
      "    accuracy                           0.88       441\n",
      "   macro avg       0.75      0.62      0.66       441\n",
      "weighted avg       0.85      0.88      0.85       441\n",
      "\n"
     ]
    }
   ],
   "source": [
    "df = pd.DataFrame(metrics.confusion_matrix(y_test,predictions), index=['Attrition-No','Attrition-Yes'], columns=['Attrition-No','Attrition-Yes'])\n",
    "print(metrics.classification_report(y_test,predictions))"
   ]
  },
  {
   "cell_type": "markdown",
   "metadata": {},
   "source": [
    "##  Save Model  in the file "
   ]
  },
  {
   "cell_type": "code",
   "execution_count": 8,
   "metadata": {},
   "outputs": [],
   "source": [
    "with open('D:\\github\\DataScience\\Kaggle\\employee_attrition\\logistic_model_pickle','wb') as f:\n",
    "    pickle.dump(model,f)"
   ]
  },
  {
   "cell_type": "markdown",
   "metadata": {},
   "source": [
    "## Load the Logistic Regression Model File and predict\n"
   ]
  },
  {
   "cell_type": "code",
   "execution_count": 9,
   "metadata": {},
   "outputs": [],
   "source": [
    "with open('D:\\github\\DataScience\\Kaggle\\employee_attrition\\logistic_model_pickle','rb') as f:\n",
    "       model_lr = pickle.load(f)"
   ]
  },
  {
   "cell_type": "code",
   "execution_count": 10,
   "metadata": {},
   "outputs": [],
   "source": [
    "pred_frm_load_model = model_lr.predict(x_test)"
   ]
  }
 ],
 "metadata": {
  "kernelspec": {
   "display_name": "Python 3",
   "language": "python",
   "name": "python3"
  },
  "language_info": {
   "codemirror_mode": {
    "name": "ipython",
    "version": 3
   },
   "file_extension": ".py",
   "mimetype": "text/x-python",
   "name": "python",
   "nbconvert_exporter": "python",
   "pygments_lexer": "ipython3",
   "version": "3.9.0"
  },
  "orig_nbformat": 4
 },
 "nbformat": 4,
 "nbformat_minor": 2
}
