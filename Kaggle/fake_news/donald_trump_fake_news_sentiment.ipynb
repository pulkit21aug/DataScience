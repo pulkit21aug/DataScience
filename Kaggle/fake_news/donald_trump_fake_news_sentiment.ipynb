{
 "cells": [
  {
   "cell_type": "code",
   "execution_count": 45,
   "metadata": {
    "collapsed": true
   },
   "outputs": [
    {
     "name": "stdout",
     "output_type": "stream",
     "text": [
      "Dataset analysis fake news\n",
      "Link - https://www.kaggle.com/clmentbisaillon/fake-and-real-news-dataset\n",
      "Sentiment Analysis of fake news dataset for target Donald Trump\n"
     ]
    }
   ],
   "source": [
    "import pandas as pd\n",
    "import numpy as np\n",
    "import matplotlib.pyplot as plt\n",
    "from pandas.api.types import is_string_dtype\n",
    "import plotly.express as px\n",
    "from nltk.tokenize import TweetTokenizer\n",
    "from nltk.corpus import stopwords\n",
    "import string\n",
    "\n",
    "\n",
    "print(\"Dataset analysis fake news\")\n",
    "print(\"Link - https://www.kaggle.com/clmentbisaillon/fake-and-real-news-dataset\")\n",
    "print(\"Sentiment Analysis of fake news dataset for target Donald Trump\")"
   ]
  },
  {
   "cell_type": "markdown",
   "metadata": {},
   "source": [
    "This notebook is extends notebook for fake news dataset analysis\n",
    "https://www.kaggle.com/pulkit21aug/target-victim-of-fake-news\n",
    "In the above notebook it was identified that Donald Trump is target of fake news dataset\n",
    "\n",
    "Management decision problem - Take corrective action in  order to curtail the impact of fake news.\n",
    "Analytics Research Problem - Identify the sentiment expressed for Fake news target - Donal Trump\n",
    "Research Objective\n",
    "  1. Pre-process data.  2. Sentiment Analysis.  3. Visualise\n",
    "  2. Null Hypothesis - Positive sentiments towards Donald Trump"
   ]
  },
  {
   "cell_type": "code",
   "execution_count": 46,
   "metadata": {
    "pycharm": {
     "name": "#%%\n"
    }
   },
   "outputs": [
    {
     "name": "stderr",
     "output_type": "stream",
     "text": [
      "c:\\python\\lib\\site-packages\\ipykernel_launcher.py:16: SettingWithCopyWarning: \n",
      "A value is trying to be set on a copy of a slice from a DataFrame.\n",
      "Try using .loc[row_indexer,col_indexer] = value instead\n",
      "\n",
      "See the caveats in the documentation: http://pandas.pydata.org/pandas-docs/stable/indexing.html#indexing-view-versus-copy\n",
      "  app.launch_new_instance()\n"
     ]
    }
   ],
   "source": [
    "df_fake_news = pd.read_csv(r\"E:/MyDrive-Phd/DataScience/Kaggle/fake_and_real_news/Fake.csv\")\n",
    "tokenizer = TweetTokenizer()\n",
    "\n",
    "\n",
    "#tokenize, remove stopwords, non-alphabetic words, lowercase\n",
    "def preprocess(textstring):\n",
    "    stops = set(stopwords.words('english'))\n",
    "    punctuations = list(string.punctuation)\n",
    "    tokens = tokenizer.tokenize(textstring)\n",
    "    return [token.lower() for token in tokens if token.isalpha()\n",
    "            and token not in stops and token not in punctuations]\n",
    "\n",
    "\n",
    "df_trump = df_fake_news[df_fake_news['text'].str.contains(\"trump\")]\n",
    "df_trump['pre_process_text'] = df_trump['text'].apply(preprocess)"
   ]
  },
  {
   "cell_type": "markdown",
   "metadata": {},
   "source": [
    "Sentiment analysis for all the tweets as summary"
   ]
  },
  {
   "cell_type": "code",
   "execution_count": 47,
   "metadata": {
    "pycharm": {
     "name": "#%%\n"
    }
   },
   "outputs": [
    {
     "name": "stdout",
     "output_type": "stream",
     "text": [
      "{'neg': 0.186, 'neu': 0.637, 'pos': 0.177, 'compound': -1.0}\n"
     ]
    }
   ],
   "source": [
    "from nltk.sentiment.vader import  SentimentIntensityAnalyzer\n",
    "sentiment = SentimentIntensityAnalyzer()\n",
    "\n",
    "trump_list = df_trump[\"pre_process_text\"].apply(lambda x : \" \".join(x))\n",
    "##create text corpus only of tweets mentioning trump\n",
    "\n",
    "trump_txt = \" \".join(trump_list)\n",
    "sentiments_score = sentiment.polarity_scores(trump_txt)\n",
    "print(sentiments_score)"
   ]
  },
  {
   "cell_type": "markdown",
   "source": [
    "Sentiment Score -\n",
    "{'neg': 0.186, 'neu': 0.637, 'pos': 0.177, 'compound': -1.0}\n",
    "As we see the compound score we  reject the null hypothesis that the tweets about Donald trump are positive."
   ],
   "metadata": {
    "collapsed": false
   }
  },
  {
   "cell_type": "markdown",
   "source": [
    "Research Objective  - Sentiment over time"
   ],
   "metadata": {
    "collapsed": false,
    "pycharm": {
     "name": "#%% md\n"
    }
   }
  },
  {
   "cell_type": "code",
   "execution_count": 48,
   "outputs": [
    {
     "name": "stderr",
     "output_type": "stream",
     "text": [
      "c:\\python\\lib\\site-packages\\ipykernel_launcher.py:9: SettingWithCopyWarning: \n",
      "A value is trying to be set on a copy of a slice from a DataFrame.\n",
      "Try using .loc[row_indexer,col_indexer] = value instead\n",
      "\n",
      "See the caveats in the documentation: http://pandas.pydata.org/pandas-docs/stable/indexing.html#indexing-view-versus-copy\n",
      "  if __name__ == '__main__':\n",
      "c:\\python\\lib\\site-packages\\ipykernel_launcher.py:10: SettingWithCopyWarning: \n",
      "A value is trying to be set on a copy of a slice from a DataFrame.\n",
      "Try using .loc[row_indexer,col_indexer] = value instead\n",
      "\n",
      "See the caveats in the documentation: http://pandas.pydata.org/pandas-docs/stable/indexing.html#indexing-view-versus-copy\n",
      "  # Remove the CWD from sys.path while we load stuff.\n",
      "c:\\python\\lib\\site-packages\\ipykernel_launcher.py:11: SettingWithCopyWarning: \n",
      "A value is trying to be set on a copy of a slice from a DataFrame.\n",
      "Try using .loc[row_indexer,col_indexer] = value instead\n",
      "\n",
      "See the caveats in the documentation: http://pandas.pydata.org/pandas-docs/stable/indexing.html#indexing-view-versus-copy\n",
      "  # This is added back by InteractiveShellApp.init_path()\n"
     ]
    }
   ],
   "source": [
    "def net_sent_score(x) :\n",
    "    score = sentiment.polarity_scores(x)\n",
    "    if score.get('neg') > score.get('pos'):\n",
    "        return  score.get('neg')* -1\n",
    "    else:\n",
    "        return  score.get('pos')\n",
    "\n",
    "\n",
    "df_trump['sent_tokens'] = df_trump[\"pre_process_text\"].apply(lambda x : \" \".join(x))\n",
    "df_trump['sent_score'] = df_trump['sent_tokens'].apply(lambda x : net_sent_score(x))\n",
    "df_trump['date'] = pd.to_datetime(df_trump['date'],errors='coerce')\n",
    "df_trump = df_trump.dropna(subset=['date'])\n",
    "df_trump = df_trump.set_index(['date'])\n",
    "# df_trump.index = pd.to_datetime(df_trump.index)"
   ],
   "metadata": {
    "collapsed": false,
    "pycharm": {
     "name": "#%%\n"
    }
   }
  },
  {
   "cell_type": "markdown",
   "source": [
    "Plot the sentiments over time"
   ],
   "metadata": {
    "collapsed": false
   }
  },
  {
   "cell_type": "code",
   "execution_count": 49,
   "outputs": [
    {
     "data": {
      "text/plain": "<matplotlib.axes._subplots.AxesSubplot at 0x1fdd273e748>"
     },
     "execution_count": 49,
     "metadata": {},
     "output_type": "execute_result"
    },
    {
     "data": {
      "text/plain": "<Figure size 432x288 with 1 Axes>",
      "image/png": "[encoded data removed]"
     },
     "metadata": {
      "needs_background": "light"
     },
     "output_type": "display_data"
    }
   ],
   "source": [
    "df = df_trump.groupby(pd.Grouper(freq='Y'))['sent_score'].mean()\n",
    "df_trump.plot(y='sent_score')"
   ],
   "metadata": {
    "collapsed": false,
    "pycharm": {
     "name": "#%%\n"
    }
   }
  }
 ],
 "metadata": {
  "kernelspec": {
   "display_name": "Python 3",
   "language": "python",
   "name": "python3"
  },
  "language_info": {
   "codemirror_mode": {
    "name": "ipython",
    "version": 3
   },
   "file_extension": ".py",
   "mimetype": "text/x-python",
   "name": "python",
   "nbconvert_exporter": "python",
   "pygments_lexer": "ipython3",
   "version": "3.7.0"
  }
 },
 "nbformat": 4,
 "nbformat_minor": 1
}